{
 "cells": [
  {
   "cell_type": "markdown",
   "metadata": {},
   "source": [
    "#  Mushroom Classifier - RandomForestClassifier & Logistic Regression\n",
    "\n",
    "## Name: Erin Moore"
   ]
  },
  {
   "cell_type": "markdown",
   "metadata": {},
   "source": [
    "## Notebook Overview\n",
    "\n",
    "In this Notebook, I will be investigating the K Nearest Neighbors and PCA algorithms using sklearn's `KNeighborsClassifier` and `PCA` class. I will use a `RandomForestClassifier` and a `Logistic Regression` to predict whether or not a mushroom is edible based on the mushroom dataset. The `KNN` algorithm will be used to fill in missing values in our dataset and the `PCA` algorithm will be used to reduce the dimensionality of the data. The goal is to evaluate the effect of dimensionality reduction on two common models and to gain experience with the `KNN` algorithm with respect to imputation. This Notebook is broken down into 7 sections: <br>\n",
    "&nbsp &nbsp 1. Import Data <br>\n",
    "&nbsp &nbsp &nbsp &nbsp - Simply importing .csv containing the mushroom dataset <br>\n",
    "&nbsp &nbsp 2. Investigate and Fix Data <br>\n",
    "&nbsp &nbsp &nbsp &nbsp - Print out data and fill in any missing values using `KNN` algorithm <br>\n",
    "&nbsp &nbsp 3. Train on Full Dataset <br>\n",
    "&nbsp &nbsp &nbsp &nbsp - Encode the full dataset, train the `RandomForestClassifier` and `Logistic Regression`, and comment on training time <br>\n",
    "&nbsp &nbsp 4. Evaluate Performance on Full Dataset <br>\n",
    "&nbsp &nbsp &nbsp &nbsp - Calculate accuracy, precision, and recall scores for each model and comment on results <br>\n",
    "&nbsp &nbsp 5. Reduce Dimensionality <br>\n",
    "&nbsp &nbsp &nbsp &nbsp - Apply PCA reduction to full dataset, display old and new dimensions and reduction percentage <br>\n",
    "&nbsp &nbsp 6. Train on Reduced Dataset <br>\n",
    "&nbsp &nbsp &nbsp &nbsp - Retrain `RandomForestClassifier` and `Logistic Regression` on reduced dataset and comment on training times <br>\n",
    "&nbsp &nbsp 7. Compare Performance <br>\n",
    "&nbsp &nbsp &nbsp &nbsp - Tabulate `RandomForestClassifier` and `Logistic Regression` performance data for both datasets and comment on results <br>"
   ]
  },
  {
   "cell_type": "markdown",
   "metadata": {},
   "source": [
    "## Preliminaries"
   ]
  },
  {
   "cell_type": "code",
   "execution_count": 109,
   "metadata": {},
   "outputs": [],
   "source": [
    "import matplotlib.pyplot as plt\n",
    "from mpl_toolkits.mplot3d import axes3d \n",
    "import matplotlib as mpl\n",
    "from matplotlib import cm\n",
    "import numpy as np\n",
    "import pandas as pd\n",
    "%matplotlib inline\n",
    "mpl.rc('axes', labelsize=14)\n",
    "mpl.rc('xtick', labelsize=12)\n",
    "mpl.rc('ytick', labelsize=12)\n",
    "import os\n"
   ]
  },
  {
   "cell_type": "markdown",
   "metadata": {},
   "source": [
    "## Import Data"
   ]
  },
  {
   "cell_type": "code",
   "execution_count": 110,
   "metadata": {},
   "outputs": [],
   "source": [
    "data = pd.read_csv('expanded.csv')"
   ]
  },
  {
   "cell_type": "markdown",
   "metadata": {},
   "source": [
    "## Investigate and Fix Data"
   ]
  },
  {
   "cell_type": "code",
   "execution_count": 111,
   "metadata": {},
   "outputs": [
    {
     "data": {
      "text/html": [
       "<div>\n",
       "<style scoped>\n",
       "    .dataframe tbody tr th:only-of-type {\n",
       "        vertical-align: middle;\n",
       "    }\n",
       "\n",
       "    .dataframe tbody tr th {\n",
       "        vertical-align: top;\n",
       "    }\n",
       "\n",
       "    .dataframe thead th {\n",
       "        text-align: right;\n",
       "    }\n",
       "</style>\n",
       "<table border=\"1\" class=\"dataframe\">\n",
       "  <thead>\n",
       "    <tr style=\"text-align: right;\">\n",
       "      <th></th>\n",
       "      <th>potability</th>\n",
       "      <th>cap-shape</th>\n",
       "      <th>cap-surface</th>\n",
       "      <th>cap-color</th>\n",
       "      <th>bruises</th>\n",
       "      <th>odor</th>\n",
       "      <th>gill-attachment</th>\n",
       "      <th>gill-spacing</th>\n",
       "      <th>gill-size</th>\n",
       "      <th>gill-color</th>\n",
       "      <th>...</th>\n",
       "      <th>stalk-surface-below-ring</th>\n",
       "      <th>stalk-color-above-ring</th>\n",
       "      <th>stalk-color-below-ring</th>\n",
       "      <th>veil-type</th>\n",
       "      <th>veil-color</th>\n",
       "      <th>ring-number</th>\n",
       "      <th>ring-type</th>\n",
       "      <th>spore-print-color</th>\n",
       "      <th>population</th>\n",
       "      <th>habitat</th>\n",
       "    </tr>\n",
       "  </thead>\n",
       "  <tbody>\n",
       "    <tr>\n",
       "      <th>count</th>\n",
       "      <td>8416</td>\n",
       "      <td>8416</td>\n",
       "      <td>8416</td>\n",
       "      <td>8416</td>\n",
       "      <td>8416</td>\n",
       "      <td>8416</td>\n",
       "      <td>8416</td>\n",
       "      <td>8416</td>\n",
       "      <td>8416</td>\n",
       "      <td>8416</td>\n",
       "      <td>...</td>\n",
       "      <td>8416</td>\n",
       "      <td>8416</td>\n",
       "      <td>8416</td>\n",
       "      <td>8416</td>\n",
       "      <td>8416</td>\n",
       "      <td>8416</td>\n",
       "      <td>8416</td>\n",
       "      <td>8416</td>\n",
       "      <td>8416</td>\n",
       "      <td>8416</td>\n",
       "    </tr>\n",
       "    <tr>\n",
       "      <th>unique</th>\n",
       "      <td>2</td>\n",
       "      <td>6</td>\n",
       "      <td>4</td>\n",
       "      <td>10</td>\n",
       "      <td>2</td>\n",
       "      <td>9</td>\n",
       "      <td>2</td>\n",
       "      <td>2</td>\n",
       "      <td>2</td>\n",
       "      <td>12</td>\n",
       "      <td>...</td>\n",
       "      <td>4</td>\n",
       "      <td>9</td>\n",
       "      <td>9</td>\n",
       "      <td>1</td>\n",
       "      <td>4</td>\n",
       "      <td>3</td>\n",
       "      <td>5</td>\n",
       "      <td>9</td>\n",
       "      <td>6</td>\n",
       "      <td>7</td>\n",
       "    </tr>\n",
       "    <tr>\n",
       "      <th>top</th>\n",
       "      <td>EDIBLE</td>\n",
       "      <td>CONVEX</td>\n",
       "      <td>SCALY</td>\n",
       "      <td>BROWN</td>\n",
       "      <td>NO</td>\n",
       "      <td>NONE</td>\n",
       "      <td>FREE</td>\n",
       "      <td>CLOSE</td>\n",
       "      <td>BROAD</td>\n",
       "      <td>BUFF</td>\n",
       "      <td>...</td>\n",
       "      <td>SMOOTH</td>\n",
       "      <td>WHITE</td>\n",
       "      <td>WHITE</td>\n",
       "      <td>PARTIAL</td>\n",
       "      <td>WHITE</td>\n",
       "      <td>ONE</td>\n",
       "      <td>PENDANT</td>\n",
       "      <td>WHITE</td>\n",
       "      <td>SEVERAL</td>\n",
       "      <td>WOODS</td>\n",
       "    </tr>\n",
       "    <tr>\n",
       "      <th>freq</th>\n",
       "      <td>4488</td>\n",
       "      <td>3796</td>\n",
       "      <td>3268</td>\n",
       "      <td>2320</td>\n",
       "      <td>5040</td>\n",
       "      <td>3808</td>\n",
       "      <td>8200</td>\n",
       "      <td>6824</td>\n",
       "      <td>5880</td>\n",
       "      <td>1728</td>\n",
       "      <td>...</td>\n",
       "      <td>5076</td>\n",
       "      <td>4744</td>\n",
       "      <td>4640</td>\n",
       "      <td>8416</td>\n",
       "      <td>8216</td>\n",
       "      <td>7768</td>\n",
       "      <td>3968</td>\n",
       "      <td>2424</td>\n",
       "      <td>4064</td>\n",
       "      <td>3160</td>\n",
       "    </tr>\n",
       "  </tbody>\n",
       "</table>\n",
       "<p>4 rows × 23 columns</p>\n",
       "</div>"
      ],
      "text/plain": [
       "       potability cap-shape cap-surface cap-color bruises  odor  \\\n",
       "count        8416      8416        8416      8416    8416  8416   \n",
       "unique          2         6           4        10       2     9   \n",
       "top        EDIBLE    CONVEX       SCALY     BROWN      NO  NONE   \n",
       "freq         4488      3796        3268      2320    5040  3808   \n",
       "\n",
       "       gill-attachment gill-spacing gill-size gill-color  ...  \\\n",
       "count             8416         8416      8416       8416  ...   \n",
       "unique               2            2         2         12  ...   \n",
       "top               FREE        CLOSE     BROAD       BUFF  ...   \n",
       "freq              8200         6824      5880       1728  ...   \n",
       "\n",
       "       stalk-surface-below-ring stalk-color-above-ring stalk-color-below-ring  \\\n",
       "count                      8416                   8416                   8416   \n",
       "unique                        4                      9                      9   \n",
       "top                      SMOOTH                  WHITE                  WHITE   \n",
       "freq                       5076                   4744                   4640   \n",
       "\n",
       "       veil-type veil-color ring-number ring-type spore-print-color  \\\n",
       "count       8416       8416        8416      8416              8416   \n",
       "unique         1          4           3         5                 9   \n",
       "top      PARTIAL      WHITE         ONE   PENDANT             WHITE   \n",
       "freq        8416       8216        7768      3968              2424   \n",
       "\n",
       "       population habitat  \n",
       "count        8416    8416  \n",
       "unique          6       7  \n",
       "top       SEVERAL   WOODS  \n",
       "freq         4064    3160  \n",
       "\n",
       "[4 rows x 23 columns]"
      ]
     },
     "execution_count": 111,
     "metadata": {},
     "output_type": "execute_result"
    }
   ],
   "source": [
    "data.describe()"
   ]
  },
  {
   "cell_type": "code",
   "execution_count": 112,
   "metadata": {},
   "outputs": [
    {
     "name": "stdout",
     "output_type": "stream",
     "text": [
      "EDIBLE       4488\n",
      "POISONOUS    3928\n",
      "Name: potability, dtype: int64\n",
      "CONVEX     3796\n",
      "FLAT       3292\n",
      "KNOBBED     840\n",
      "BELL        452\n",
      "SUNKEN       32\n",
      "CONICAL       4\n",
      "Name: cap-shape, dtype: int64\n",
      "SCALY      3268\n",
      "SMOOTH     2684\n",
      "FIBROUS    2460\n",
      "GROOVES       4\n",
      "Name: cap-surface, dtype: int64\n",
      "BROWN       2320\n",
      "GRAY        2096\n",
      "RED         1500\n",
      "YELLOW      1072\n",
      "WHITE       1040\n",
      "BUFF         168\n",
      "PINK         144\n",
      "CINNAMON      44\n",
      "GREEN         16\n",
      "PURPLE        16\n",
      "Name: cap-color, dtype: int64\n",
      "NO         5040\n",
      "BRUISES    3376\n",
      "Name: bruises, dtype: int64\n",
      "NONE        3808\n",
      "FOUL        2160\n",
      "FISHY        576\n",
      "SPICY        576\n",
      "ANISE        400\n",
      "ALMOND       400\n",
      "PUNGENT      256\n",
      "CREOSOTE     192\n",
      "MUSTY         48\n",
      "Name: odor, dtype: int64\n",
      "FREE        8200\n",
      "ATTACHED     216\n",
      "Name: gill-attachment, dtype: int64\n",
      "CLOSE      6824\n",
      "CROWDED    1592\n",
      "Name: gill-spacing, dtype: int64\n",
      "BROAD     5880\n",
      "NARROW    2536\n",
      "Name: gill-size, dtype: int64\n",
      "BUFF         1728\n",
      "PINK         1556\n",
      "WHITE        1232\n",
      "BROWN        1112\n",
      "CHOCOLATE     796\n",
      "GRAY          752\n",
      "PURPLE        492\n",
      "BLACK         472\n",
      "RED            96\n",
      "YELLOW         92\n",
      "ORANGE         64\n",
      "GREEN          24\n",
      "Name: gill-color, dtype: int64\n",
      "TAPERING     4864\n",
      "ENLARGING    3552\n",
      "Name: stalk-shape, dtype: int64\n",
      "BULBOUS    3800\n",
      "?          2480\n",
      "EQUAL      1376\n",
      "CLUB        568\n",
      "ROOTED      192\n",
      "Name: stalk-root, dtype: int64\n",
      "SMOOTH     5316\n",
      "SILKY      2384\n",
      "FIBROUS     692\n",
      "SCALY        24\n",
      "Name: stalk-surface-above-ring, dtype: int64\n",
      "SMOOTH     5076\n",
      "SILKY      2304\n",
      "FIBROUS     740\n",
      "SCALY       296\n",
      "Name: stalk-surface-below-ring, dtype: int64\n",
      "WHITE       4744\n",
      "PINK        1872\n",
      "GRAY         576\n",
      "BROWN        448\n",
      "BUFF         432\n",
      "ORANGE       192\n",
      "RED           96\n",
      "CINNAMON      48\n",
      "YELLOW         8\n",
      "Name: stalk-color-above-ring, dtype: int64\n",
      "WHITE       4640\n",
      "PINK        1872\n",
      "GRAY         576\n",
      "BROWN        536\n",
      "BUFF         432\n",
      "ORANGE       192\n",
      "RED           96\n",
      "CINNAMON      48\n",
      "YELLOW        24\n",
      "Name: stalk-color-below-ring, dtype: int64\n",
      "PARTIAL    8416\n",
      "Name: veil-type, dtype: int64\n",
      "WHITE     8216\n",
      "BROWN       96\n",
      "ORANGE      96\n",
      "YELLOW       8\n",
      "Name: veil-color, dtype: int64\n",
      "ONE     7768\n",
      "TWO      600\n",
      "NONE      48\n",
      "Name: ring-number, dtype: int64\n",
      "PENDANT       3968\n",
      "EVANESCENT    3056\n",
      "LARGE         1296\n",
      "FLARING         48\n",
      "NONE            48\n",
      "Name: ring-type, dtype: int64\n",
      "WHITE        2424\n",
      "BROWN        2096\n",
      "BLACK        2000\n",
      "CHOCOLATE    1632\n",
      "GREEN          72\n",
      "YELLOW         48\n",
      "BUFF           48\n",
      "PURPLE         48\n",
      "ORANGE         48\n",
      "Name: spore-print-color, dtype: int64\n",
      "SEVERAL      4064\n",
      "SOLITARY     1712\n",
      "SCATTERED    1376\n",
      "ABUNDANT      512\n",
      "NUMEROUS      400\n",
      "CLUSTERED     352\n",
      "Name: population, dtype: int64\n",
      "WOODS      3160\n",
      "GRASSES    2404\n",
      "PATHS      1144\n",
      "LEAVES      856\n",
      "URBAN       368\n",
      "MEADOWS     292\n",
      "WASTE       192\n",
      "Name: habitat, dtype: int64\n"
     ]
    }
   ],
   "source": [
    "# showing categories and counts for each feature\n",
    "for column in data.columns:\n",
    "    print(data[column].value_counts())"
   ]
  },
  {
   "cell_type": "code",
   "execution_count": 113,
   "metadata": {},
   "outputs": [],
   "source": [
    "# replacing ? in data with nan value so we can use built-in functions\n",
    "for column in data.columns:\n",
    "    data[column][data[column] == '?'] = np.nan"
   ]
  },
  {
   "cell_type": "code",
   "execution_count": 114,
   "metadata": {},
   "outputs": [],
   "source": [
    "# encoding data\n",
    "data_fill = data.drop('stalk-root', axis = 1)\n",
    "data_fill = pd.get_dummies(data_fill)\n",
    "\n",
    "# getting indices of nan values and non nan values for imputation\n",
    "idx_nan = data.index[data['stalk-root'].isna()]\n",
    "idx_else = data.index[data['stalk-root'].isna() == False]\n",
    "\n",
    "# splitting data for imputation\n",
    "data_tofill = data_fill.loc[idx_nan]\n",
    "data_filler = data_fill.loc[idx_else]\n",
    "y_filler = data['stalk-root'].loc[idx_else]"
   ]
  },
  {
   "cell_type": "code",
   "execution_count": 115,
   "metadata": {},
   "outputs": [
    {
     "name": "stdout",
     "output_type": "stream",
     "text": [
      "['EQUAL' 'BULBOUS' 'EQUAL' ... 'EQUAL' 'EQUAL' 'EQUAL']\n"
     ]
    }
   ],
   "source": [
    "# using KNN to find missing values\n",
    "from sklearn.neighbors import KNeighborsClassifier\n",
    "\n",
    "\n",
    "params = {'n_neighbors':5,\n",
    "          'weights':'uniform',\n",
    "          'leaf_size':30,\n",
    "          'p':2}\n",
    "\n",
    "knn = KNeighborsClassifier(**params)\n",
    "\n",
    "knn.fit(data_filler,y_filler)\n",
    "missing_values = knn.predict(data_tofill)\n",
    "\n",
    "print(missing_values)"
   ]
  },
  {
   "cell_type": "code",
   "execution_count": 116,
   "metadata": {
    "tags": []
   },
   "outputs": [],
   "source": [
    "# filling missing values\n",
    "data['stalk-root'][idx_nan] = missing_values"
   ]
  },
  {
   "cell_type": "markdown",
   "metadata": {},
   "source": [
    "## Train on Full Dataset"
   ]
  },
  {
   "cell_type": "code",
   "execution_count": 117,
   "metadata": {},
   "outputs": [],
   "source": [
    "from sklearn.model_selection import train_test_split\n",
    "\n",
    "# splitting up full dataset with imputed values for training and testing\n",
    "y = data['potability']\n",
    "y = np.where(y.str.contains(\"EDIBLE\"), 1, 0)\n",
    "\n",
    "X = data.drop('potability', axis = 1)\n",
    "X = pd.get_dummies(X)\n",
    "\n",
    "X_train, X_test, y_train, y_test = train_test_split(X, y, test_size=0.20, random_state=42)"
   ]
  },
  {
   "cell_type": "code",
   "execution_count": 118,
   "metadata": {},
   "outputs": [],
   "source": [
    "from sklearn.ensemble import RandomForestClassifier\n",
    "from sklearn.linear_model import LogisticRegression\n",
    "\n",
    "# creating models\n",
    "rfr = RandomForestClassifier(random_state=42)\n",
    "lr = LogisticRegression()\n"
   ]
  },
  {
   "cell_type": "code",
   "execution_count": 119,
   "metadata": {},
   "outputs": [
    {
     "name": "stdout",
     "output_type": "stream",
     "text": [
      "CPU times: user 416 ms, sys: 13 ms, total: 429 ms\n",
      "Wall time: 475 ms\n"
     ]
    },
    {
     "data": {
      "text/plain": [
       "RandomForestClassifier(random_state=42)"
      ]
     },
     "execution_count": 119,
     "metadata": {},
     "output_type": "execute_result"
    }
   ],
   "source": [
    "%%time\n",
    "\n",
    "# training random forest classifier and timing\n",
    "rfr.fit(X_train,y_train)"
   ]
  },
  {
   "cell_type": "code",
   "execution_count": 120,
   "metadata": {},
   "outputs": [
    {
     "name": "stdout",
     "output_type": "stream",
     "text": [
      "CPU times: user 312 ms, sys: 25.9 ms, total: 338 ms\n",
      "Wall time: 419 ms\n"
     ]
    },
    {
     "data": {
      "text/plain": [
       "LogisticRegression()"
      ]
     },
     "execution_count": 120,
     "metadata": {},
     "output_type": "execute_result"
    }
   ],
   "source": [
    "%%time\n",
    "\n",
    "# training logistic regression and timing\n",
    "lr.fit(X_train,y_train)"
   ]
  },
  {
   "cell_type": "markdown",
   "metadata": {},
   "source": [
    "## Evaluate Performance on Full Dataset"
   ]
  },
  {
   "cell_type": "code",
   "execution_count": 121,
   "metadata": {},
   "outputs": [],
   "source": [
    "# predicting\n",
    "rfr_preds = rfr.predict(X_test)\n",
    "lr_preds = lr.predict(X_test)\n"
   ]
  },
  {
   "cell_type": "code",
   "execution_count": 122,
   "metadata": {},
   "outputs": [
    {
     "name": "stdout",
     "output_type": "stream",
     "text": [
      "RandomForestClassifier Accuracy score (full dataset):  1.0\n",
      "Logistic Regression Accuracy score (full dataset):  1.0\n",
      "RandomForestClassifier Recall score (full dataset):  1.0\n",
      "Logistic Regression Recall score (full dataset):  1.0\n",
      "RandomForestClassifier Precision score (full dataset):  1.0\n",
      "Logistic Regression Precision score (full dataset):  1.0\n"
     ]
    }
   ],
   "source": [
    "from sklearn.metrics import accuracy_score, recall_score, precision_score\n",
    "\n",
    "# outputting performance metrics\n",
    "acc_rfr_orig = round(accuracy_score(y_test, rfr_preds),4)\n",
    "print(\"RandomForestClassifier Accuracy score (full dataset): \", acc_rfr_orig)\n",
    "\n",
    "acc_lr_orig = round(accuracy_score(y_test, lr_preds),4)\n",
    "print(\"Logistic Regression Accuracy score (full dataset): \", acc_lr_orig)\n",
    "\n",
    "rec_rfr_orig = round(recall_score(y_test, rfr_preds),4)\n",
    "print(\"RandomForestClassifier Recall score (full dataset): \", rec_rfr_orig)\n",
    "\n",
    "rec_lr_orig = round(recall_score(y_test, lr_preds),4)\n",
    "print(\"Logistic Regression Recall score (full dataset): \", rec_lr_orig)\n",
    "\n",
    "prec_rfr_orig = round(precision_score(y_test, rfr_preds),4)\n",
    "print(\"RandomForestClassifier Precision score (full dataset): \",  prec_rfr_orig)\n",
    "\n",
    "prec_lr_orig = round(precision_score(y_test, lr_preds),4)\n",
    "print(\"Logistic Regression Precision score (full dataset): \", prec_lr_orig)"
   ]
  },
  {
   "cell_type": "markdown",
   "metadata": {},
   "source": [
    "Since all of these values are 1, we did not miss any mushroom classifications on the full dataset with either the RandomForestClassifier or the Logistic Regression. "
   ]
  },
  {
   "cell_type": "markdown",
   "metadata": {},
   "source": [
    "## Reduce Dimensionality"
   ]
  },
  {
   "cell_type": "code",
   "execution_count": 123,
   "metadata": {},
   "outputs": [
    {
     "name": "stdout",
     "output_type": "stream",
     "text": [
      "Original number of dimensions:  116\n",
      "Number of dimensions after PCA:  2\n",
      "Percentage decrease in dimensions:  98.28 %\n"
     ]
    }
   ],
   "source": [
    "from sklearn.decomposition import PCA\n",
    "\n",
    "# reducing dataset with PCA\n",
    "pca = PCA(n_components=2)\n",
    "X_reduced = pca.fit_transform(X)\n",
    "\n",
    "# outputting reduction metrics\n",
    "full_dims = X.shape[1]\n",
    "reduced_dims = X_reduced.shape[1]\n",
    "print('Original number of dimensions: ',full_dims)\n",
    "print('Number of dimensions after PCA: ',reduced_dims)\n",
    "print('Percentage decrease in dimensions: ',round((full_dims-reduced_dims)/full_dims*100,2),'%')"
   ]
  },
  {
   "cell_type": "markdown",
   "metadata": {},
   "source": [
    "## Train on Reduced Datset"
   ]
  },
  {
   "cell_type": "code",
   "execution_count": 124,
   "metadata": {},
   "outputs": [],
   "source": [
    "# splitting reduced data for training and testing\n",
    "X_train_reduced, X_test_reduced, y_train, y_test = train_test_split(X_reduced, y, test_size=0.20, random_state=42)"
   ]
  },
  {
   "cell_type": "code",
   "execution_count": 125,
   "metadata": {},
   "outputs": [],
   "source": [
    "# creating new models for reduced data\n",
    "rfr_reduced = RandomForestClassifier(random_state=42)\n",
    "lr_reduced = LogisticRegression()"
   ]
  },
  {
   "cell_type": "code",
   "execution_count": 126,
   "metadata": {},
   "outputs": [
    {
     "name": "stdout",
     "output_type": "stream",
     "text": [
      "CPU times: user 613 ms, sys: 17.2 ms, total: 631 ms\n",
      "Wall time: 705 ms\n"
     ]
    }
   ],
   "source": [
    "%%time\n",
    "\n",
    "# fitting and timing random forest classifier on reduced data\n",
    "rfr_reduced = rfr_reduced.fit(X_train_reduced,y_train)"
   ]
  },
  {
   "cell_type": "code",
   "execution_count": 127,
   "metadata": {},
   "outputs": [
    {
     "name": "stdout",
     "output_type": "stream",
     "text": [
      "CPU times: user 22 ms, sys: 3.65 ms, total: 25.6 ms\n",
      "Wall time: 46.3 ms\n"
     ]
    }
   ],
   "source": [
    "%%time\n",
    "\n",
    "# fitting and timing logistic regression on reduced data\n",
    "lr_reduced = lr_reduced.fit(X_train_reduced,y_train)"
   ]
  },
  {
   "cell_type": "markdown",
   "metadata": {},
   "source": [
    "## Compare Performance"
   ]
  },
  {
   "cell_type": "code",
   "execution_count": 128,
   "metadata": {},
   "outputs": [],
   "source": [
    "# predicting\n",
    "rfr_preds = rfr_reduced.predict(X_test_reduced)\n",
    "lr_preds = lr_reduced.predict(X_test_reduced)"
   ]
  },
  {
   "cell_type": "code",
   "execution_count": 129,
   "metadata": {},
   "outputs": [
    {
     "name": "stdout",
     "output_type": "stream",
     "text": [
      "RandomForestClassifier Accuracy score (reduced dataset):  0.9388\n",
      "Logistic Regression Accuracy score (reduced dataset):  0.8818\n",
      "RandomForestClassifier Recall score (reduced dataset):  0.9513\n",
      "Logistic Regression Recall score (reduced dataset):  0.9712\n",
      "RandomForestClassifier Precision score (reduced dataset):  0.9357\n",
      "Logistic Regression Precision score (reduced dataset):  0.8352\n"
     ]
    }
   ],
   "source": [
    "# outputting performance metrics\n",
    "acc_rfr_red = round(accuracy_score(y_test, rfr_preds),4)\n",
    "print(\"RandomForestClassifier Accuracy score (reduced dataset): \", acc_rfr_red)\n",
    "\n",
    "acc_lr_red = round(accuracy_score(y_test, lr_preds),4)\n",
    "print(\"Logistic Regression Accuracy score (reduced dataset): \", acc_lr_red)\n",
    "\n",
    "rec_rfr_red = round(recall_score(y_test, rfr_preds),4)\n",
    "print(\"RandomForestClassifier Recall score (reduced dataset): \", rec_rfr_red)\n",
    "\n",
    "rec_lr_red = round(recall_score(y_test, lr_preds),4)\n",
    "print(\"Logistic Regression Recall score (reduced dataset): \", rec_lr_red)\n",
    "\n",
    "prec_rfr_red = round(precision_score(y_test, rfr_preds),4)\n",
    "print(\"RandomForestClassifier Precision score (reduced dataset): \", prec_rfr_red)\n",
    "\n",
    "prec_lr_red = round(precision_score(y_test, lr_preds),4)\n",
    "print(\"Logistic Regression Precision score (reduced dataset): \", prec_lr_red)"
   ]
  },
  {
   "cell_type": "code",
   "execution_count": 131,
   "metadata": {},
   "outputs": [
    {
     "data": {
      "application/vnd.plotly.v1+json": {
       "config": {
        "plotlyServerURL": "https://plot.ly"
       },
       "data": [
        {
         "cells": {
          "values": [
           [
            "Random Forest",
            "Random Forest",
            "Random Forest",
            "Random Forest",
            "Logistic Regression",
            "Logistic Regression",
            "Logistic Regression",
            "Logistic Regression"
           ],
           [
            "Accuracy",
            "Precision",
            "Recall",
            "Time",
            "Accuracy",
            "Precision",
            "Recall",
            "Time(ms)"
           ],
           [
            1,
            1,
            1,
            475,
            1,
            1,
            1,
            419
           ],
           [
            0.9388,
            0.9357,
            0.9513,
            631,
            0.8818,
            0.8352,
            0.9712,
            46.3
           ]
          ]
         },
         "header": {
          "values": [
           "Models",
           "Item",
           "Full Data",
           "PCA Reduced"
          ]
         },
         "type": "table"
        }
       ],
       "layout": {
        "template": {
         "data": {
          "bar": [
           {
            "error_x": {
             "color": "#2a3f5f"
            },
            "error_y": {
             "color": "#2a3f5f"
            },
            "marker": {
             "line": {
              "color": "#E5ECF6",
              "width": 0.5
             },
             "pattern": {
              "fillmode": "overlay",
              "size": 10,
              "solidity": 0.2
             }
            },
            "type": "bar"
           }
          ],
          "barpolar": [
           {
            "marker": {
             "line": {
              "color": "#E5ECF6",
              "width": 0.5
             },
             "pattern": {
              "fillmode": "overlay",
              "size": 10,
              "solidity": 0.2
             }
            },
            "type": "barpolar"
           }
          ],
          "carpet": [
           {
            "aaxis": {
             "endlinecolor": "#2a3f5f",
             "gridcolor": "white",
             "linecolor": "white",
             "minorgridcolor": "white",
             "startlinecolor": "#2a3f5f"
            },
            "baxis": {
             "endlinecolor": "#2a3f5f",
             "gridcolor": "white",
             "linecolor": "white",
             "minorgridcolor": "white",
             "startlinecolor": "#2a3f5f"
            },
            "type": "carpet"
           }
          ],
          "choropleth": [
           {
            "colorbar": {
             "outlinewidth": 0,
             "ticks": ""
            },
            "type": "choropleth"
           }
          ],
          "contour": [
           {
            "colorbar": {
             "outlinewidth": 0,
             "ticks": ""
            },
            "colorscale": [
             [
              0,
              "#0d0887"
             ],
             [
              0.1111111111111111,
              "#46039f"
             ],
             [
              0.2222222222222222,
              "#7201a8"
             ],
             [
              0.3333333333333333,
              "#9c179e"
             ],
             [
              0.4444444444444444,
              "#bd3786"
             ],
             [
              0.5555555555555556,
              "#d8576b"
             ],
             [
              0.6666666666666666,
              "#ed7953"
             ],
             [
              0.7777777777777778,
              "#fb9f3a"
             ],
             [
              0.8888888888888888,
              "#fdca26"
             ],
             [
              1,
              "#f0f921"
             ]
            ],
            "type": "contour"
           }
          ],
          "contourcarpet": [
           {
            "colorbar": {
             "outlinewidth": 0,
             "ticks": ""
            },
            "type": "contourcarpet"
           }
          ],
          "heatmap": [
           {
            "colorbar": {
             "outlinewidth": 0,
             "ticks": ""
            },
            "colorscale": [
             [
              0,
              "#0d0887"
             ],
             [
              0.1111111111111111,
              "#46039f"
             ],
             [
              0.2222222222222222,
              "#7201a8"
             ],
             [
              0.3333333333333333,
              "#9c179e"
             ],
             [
              0.4444444444444444,
              "#bd3786"
             ],
             [
              0.5555555555555556,
              "#d8576b"
             ],
             [
              0.6666666666666666,
              "#ed7953"
             ],
             [
              0.7777777777777778,
              "#fb9f3a"
             ],
             [
              0.8888888888888888,
              "#fdca26"
             ],
             [
              1,
              "#f0f921"
             ]
            ],
            "type": "heatmap"
           }
          ],
          "heatmapgl": [
           {
            "colorbar": {
             "outlinewidth": 0,
             "ticks": ""
            },
            "colorscale": [
             [
              0,
              "#0d0887"
             ],
             [
              0.1111111111111111,
              "#46039f"
             ],
             [
              0.2222222222222222,
              "#7201a8"
             ],
             [
              0.3333333333333333,
              "#9c179e"
             ],
             [
              0.4444444444444444,
              "#bd3786"
             ],
             [
              0.5555555555555556,
              "#d8576b"
             ],
             [
              0.6666666666666666,
              "#ed7953"
             ],
             [
              0.7777777777777778,
              "#fb9f3a"
             ],
             [
              0.8888888888888888,
              "#fdca26"
             ],
             [
              1,
              "#f0f921"
             ]
            ],
            "type": "heatmapgl"
           }
          ],
          "histogram": [
           {
            "marker": {
             "pattern": {
              "fillmode": "overlay",
              "size": 10,
              "solidity": 0.2
             }
            },
            "type": "histogram"
           }
          ],
          "histogram2d": [
           {
            "colorbar": {
             "outlinewidth": 0,
             "ticks": ""
            },
            "colorscale": [
             [
              0,
              "#0d0887"
             ],
             [
              0.1111111111111111,
              "#46039f"
             ],
             [
              0.2222222222222222,
              "#7201a8"
             ],
             [
              0.3333333333333333,
              "#9c179e"
             ],
             [
              0.4444444444444444,
              "#bd3786"
             ],
             [
              0.5555555555555556,
              "#d8576b"
             ],
             [
              0.6666666666666666,
              "#ed7953"
             ],
             [
              0.7777777777777778,
              "#fb9f3a"
             ],
             [
              0.8888888888888888,
              "#fdca26"
             ],
             [
              1,
              "#f0f921"
             ]
            ],
            "type": "histogram2d"
           }
          ],
          "histogram2dcontour": [
           {
            "colorbar": {
             "outlinewidth": 0,
             "ticks": ""
            },
            "colorscale": [
             [
              0,
              "#0d0887"
             ],
             [
              0.1111111111111111,
              "#46039f"
             ],
             [
              0.2222222222222222,
              "#7201a8"
             ],
             [
              0.3333333333333333,
              "#9c179e"
             ],
             [
              0.4444444444444444,
              "#bd3786"
             ],
             [
              0.5555555555555556,
              "#d8576b"
             ],
             [
              0.6666666666666666,
              "#ed7953"
             ],
             [
              0.7777777777777778,
              "#fb9f3a"
             ],
             [
              0.8888888888888888,
              "#fdca26"
             ],
             [
              1,
              "#f0f921"
             ]
            ],
            "type": "histogram2dcontour"
           }
          ],
          "mesh3d": [
           {
            "colorbar": {
             "outlinewidth": 0,
             "ticks": ""
            },
            "type": "mesh3d"
           }
          ],
          "parcoords": [
           {
            "line": {
             "colorbar": {
              "outlinewidth": 0,
              "ticks": ""
             }
            },
            "type": "parcoords"
           }
          ],
          "pie": [
           {
            "automargin": true,
            "type": "pie"
           }
          ],
          "scatter": [
           {
            "marker": {
             "colorbar": {
              "outlinewidth": 0,
              "ticks": ""
             }
            },
            "type": "scatter"
           }
          ],
          "scatter3d": [
           {
            "line": {
             "colorbar": {
              "outlinewidth": 0,
              "ticks": ""
             }
            },
            "marker": {
             "colorbar": {
              "outlinewidth": 0,
              "ticks": ""
             }
            },
            "type": "scatter3d"
           }
          ],
          "scattercarpet": [
           {
            "marker": {
             "colorbar": {
              "outlinewidth": 0,
              "ticks": ""
             }
            },
            "type": "scattercarpet"
           }
          ],
          "scattergeo": [
           {
            "marker": {
             "colorbar": {
              "outlinewidth": 0,
              "ticks": ""
             }
            },
            "type": "scattergeo"
           }
          ],
          "scattergl": [
           {
            "marker": {
             "colorbar": {
              "outlinewidth": 0,
              "ticks": ""
             }
            },
            "type": "scattergl"
           }
          ],
          "scattermapbox": [
           {
            "marker": {
             "colorbar": {
              "outlinewidth": 0,
              "ticks": ""
             }
            },
            "type": "scattermapbox"
           }
          ],
          "scatterpolar": [
           {
            "marker": {
             "colorbar": {
              "outlinewidth": 0,
              "ticks": ""
             }
            },
            "type": "scatterpolar"
           }
          ],
          "scatterpolargl": [
           {
            "marker": {
             "colorbar": {
              "outlinewidth": 0,
              "ticks": ""
             }
            },
            "type": "scatterpolargl"
           }
          ],
          "scatterternary": [
           {
            "marker": {
             "colorbar": {
              "outlinewidth": 0,
              "ticks": ""
             }
            },
            "type": "scatterternary"
           }
          ],
          "surface": [
           {
            "colorbar": {
             "outlinewidth": 0,
             "ticks": ""
            },
            "colorscale": [
             [
              0,
              "#0d0887"
             ],
             [
              0.1111111111111111,
              "#46039f"
             ],
             [
              0.2222222222222222,
              "#7201a8"
             ],
             [
              0.3333333333333333,
              "#9c179e"
             ],
             [
              0.4444444444444444,
              "#bd3786"
             ],
             [
              0.5555555555555556,
              "#d8576b"
             ],
             [
              0.6666666666666666,
              "#ed7953"
             ],
             [
              0.7777777777777778,
              "#fb9f3a"
             ],
             [
              0.8888888888888888,
              "#fdca26"
             ],
             [
              1,
              "#f0f921"
             ]
            ],
            "type": "surface"
           }
          ],
          "table": [
           {
            "cells": {
             "fill": {
              "color": "#EBF0F8"
             },
             "line": {
              "color": "white"
             }
            },
            "header": {
             "fill": {
              "color": "#C8D4E3"
             },
             "line": {
              "color": "white"
             }
            },
            "type": "table"
           }
          ]
         },
         "layout": {
          "annotationdefaults": {
           "arrowcolor": "#2a3f5f",
           "arrowhead": 0,
           "arrowwidth": 1
          },
          "autotypenumbers": "strict",
          "coloraxis": {
           "colorbar": {
            "outlinewidth": 0,
            "ticks": ""
           }
          },
          "colorscale": {
           "diverging": [
            [
             0,
             "#8e0152"
            ],
            [
             0.1,
             "#c51b7d"
            ],
            [
             0.2,
             "#de77ae"
            ],
            [
             0.3,
             "#f1b6da"
            ],
            [
             0.4,
             "#fde0ef"
            ],
            [
             0.5,
             "#f7f7f7"
            ],
            [
             0.6,
             "#e6f5d0"
            ],
            [
             0.7,
             "#b8e186"
            ],
            [
             0.8,
             "#7fbc41"
            ],
            [
             0.9,
             "#4d9221"
            ],
            [
             1,
             "#276419"
            ]
           ],
           "sequential": [
            [
             0,
             "#0d0887"
            ],
            [
             0.1111111111111111,
             "#46039f"
            ],
            [
             0.2222222222222222,
             "#7201a8"
            ],
            [
             0.3333333333333333,
             "#9c179e"
            ],
            [
             0.4444444444444444,
             "#bd3786"
            ],
            [
             0.5555555555555556,
             "#d8576b"
            ],
            [
             0.6666666666666666,
             "#ed7953"
            ],
            [
             0.7777777777777778,
             "#fb9f3a"
            ],
            [
             0.8888888888888888,
             "#fdca26"
            ],
            [
             1,
             "#f0f921"
            ]
           ],
           "sequentialminus": [
            [
             0,
             "#0d0887"
            ],
            [
             0.1111111111111111,
             "#46039f"
            ],
            [
             0.2222222222222222,
             "#7201a8"
            ],
            [
             0.3333333333333333,
             "#9c179e"
            ],
            [
             0.4444444444444444,
             "#bd3786"
            ],
            [
             0.5555555555555556,
             "#d8576b"
            ],
            [
             0.6666666666666666,
             "#ed7953"
            ],
            [
             0.7777777777777778,
             "#fb9f3a"
            ],
            [
             0.8888888888888888,
             "#fdca26"
            ],
            [
             1,
             "#f0f921"
            ]
           ]
          },
          "colorway": [
           "#636efa",
           "#EF553B",
           "#00cc96",
           "#ab63fa",
           "#FFA15A",
           "#19d3f3",
           "#FF6692",
           "#B6E880",
           "#FF97FF",
           "#FECB52"
          ],
          "font": {
           "color": "#2a3f5f"
          },
          "geo": {
           "bgcolor": "white",
           "lakecolor": "white",
           "landcolor": "#E5ECF6",
           "showlakes": true,
           "showland": true,
           "subunitcolor": "white"
          },
          "hoverlabel": {
           "align": "left"
          },
          "hovermode": "closest",
          "mapbox": {
           "style": "light"
          },
          "paper_bgcolor": "white",
          "plot_bgcolor": "#E5ECF6",
          "polar": {
           "angularaxis": {
            "gridcolor": "white",
            "linecolor": "white",
            "ticks": ""
           },
           "bgcolor": "#E5ECF6",
           "radialaxis": {
            "gridcolor": "white",
            "linecolor": "white",
            "ticks": ""
           }
          },
          "scene": {
           "xaxis": {
            "backgroundcolor": "#E5ECF6",
            "gridcolor": "white",
            "gridwidth": 2,
            "linecolor": "white",
            "showbackground": true,
            "ticks": "",
            "zerolinecolor": "white"
           },
           "yaxis": {
            "backgroundcolor": "#E5ECF6",
            "gridcolor": "white",
            "gridwidth": 2,
            "linecolor": "white",
            "showbackground": true,
            "ticks": "",
            "zerolinecolor": "white"
           },
           "zaxis": {
            "backgroundcolor": "#E5ECF6",
            "gridcolor": "white",
            "gridwidth": 2,
            "linecolor": "white",
            "showbackground": true,
            "ticks": "",
            "zerolinecolor": "white"
           }
          },
          "shapedefaults": {
           "line": {
            "color": "#2a3f5f"
           }
          },
          "ternary": {
           "aaxis": {
            "gridcolor": "white",
            "linecolor": "white",
            "ticks": ""
           },
           "baxis": {
            "gridcolor": "white",
            "linecolor": "white",
            "ticks": ""
           },
           "bgcolor": "#E5ECF6",
           "caxis": {
            "gridcolor": "white",
            "linecolor": "white",
            "ticks": ""
           }
          },
          "title": {
           "x": 0.05
          },
          "xaxis": {
           "automargin": true,
           "gridcolor": "white",
           "linecolor": "white",
           "ticks": "",
           "title": {
            "standoff": 15
           },
           "zerolinecolor": "white",
           "zerolinewidth": 2
          },
          "yaxis": {
           "automargin": true,
           "gridcolor": "white",
           "linecolor": "white",
           "ticks": "",
           "title": {
            "standoff": 15
           },
           "zerolinecolor": "white",
           "zerolinewidth": 2
          }
         }
        }
       }
      }
     },
     "metadata": {},
     "output_type": "display_data"
    }
   ],
   "source": [
    "import plotly.graph_objects as go\n",
    "\n",
    "# tabulating results\n",
    "fig = go.Figure(data=[go.Table(header=dict(values=['Models', 'Item','Full Data','PCA Reduced']),\n",
    "                 cells=dict(values=[['Random Forest','Random Forest','Random Forest','Random Forest', 'Logistic Regression', 'Logistic Regression', 'Logistic Regression', 'Logistic Regression'], ['Accuracy', 'Precision','Recall','Time','Accuracy', 'Precision','Recall','Time(ms)'],[acc_rfr_orig, prec_rfr_orig, rec_rfr_orig, 475, acc_lr_orig, prec_lr_orig, rec_lr_orig, 419],[acc_rfr_red, prec_rfr_red, rec_rfr_red, 631, acc_lr_red, prec_lr_red, rec_lr_red, 46.3]]))\n",
    "                     ])\n",
    "fig.show()"
   ]
  },
  {
   "cell_type": "markdown",
   "metadata": {},
   "source": [
    "### Conclusions <br>\n",
    "Based on the table above, the models perform worse with the reduced dataset, however the drop in performance is greatly outweighed by the drop in dimensions. This means even with a logistic regression, which is a fairly simple model, we can expect decent results with much less training time. However, the RandomForestClassifier takes longer to train on the reduced dataset because there are fewer ways in which the data can be split. Even so, the RandomForestClassifier performs very well - greatly outperforming the logistic regression on the reduced dataset in both accuracy and precision, but losing slightly in recall. This means the RandomForestClassifier is more likely to get the correct prediction and less likely to have false positives (in this case falsely identifying a poisonous mushroom as edible). But, the RandomForestClassifier is less likely to get all edible mushrooms (falsely labels as poisonous). So, overall, the RandomForestClassifier performs better on the reduced data, especially because the logistic regression is much more likely to say a poisonous mushroom is edible. I would also conclude that using the logistic regression on the full dataset is the best option because it did not miss any mushroom labels and had a lower training time compared to the RandomForestClassifier."
   ]
  }
 ],
 "metadata": {
  "interpreter": {
   "hash": "aee8b7b246df8f9039afb4144a1f6fd8d2ca17a180786b69acc140d282b71a49"
  },
  "kernelspec": {
   "display_name": "Python 3",
   "language": "python",
   "name": "python3"
  },
  "language_info": {
   "codemirror_mode": {
    "name": "ipython",
    "version": 3
   },
   "file_extension": ".py",
   "mimetype": "text/x-python",
   "name": "python",
   "nbconvert_exporter": "python",
   "pygments_lexer": "ipython3",
   "version": "3.8.5"
  }
 },
 "nbformat": 4,
 "nbformat_minor": 2
}
